{
 "cells": [
  {
   "cell_type": "code",
   "execution_count": 17,
   "metadata": {},
   "outputs": [
    {
     "name": "stdout",
     "output_type": "stream",
     "text": [
      "Output radian: 0.2617993877991494\n"
     ]
    }
   ],
   "source": [
    "import math\n",
    "\n",
    "degree = int(input(\"Input degree: \"))\n",
    "print(f\"Output radian: {math.pi / 180 * degree}\")\n"
   ]
  },
  {
   "cell_type": "code",
   "execution_count": 3,
   "metadata": {},
   "outputs": [
    {
     "name": "stdout",
     "output_type": "stream",
     "text": [
      "Area: 15129.0\n"
     ]
    }
   ],
   "source": [
    "height = int(input(\"Input height: \"))\n",
    "base1 = int(input(\"Base, first value: \"))\n",
    "base2 = int(input(\"Base, second value: \"))\n",
    "\n",
    "print(f\"Area: {0.5 * height * (base1 + base2)}\")\n"
   ]
  },
  {
   "cell_type": "code",
   "execution_count": null,
   "metadata": {},
   "outputs": [
    {
     "name": "stdout",
     "output_type": "stream",
     "text": [
      "12.500000000000002\n",
      "Area: 625.0000000000001\n"
     ]
    }
   ],
   "source": [
    "import math\n",
    "\n",
    "n = int(input(\"Number of sides: \"))\n",
    "s = int(input(\"Length of a side: \"))\n",
    "\n",
    "a = s / (2 * math.tan(math.pi / 180 * (180 / n)))\n",
    "area = (n * s * a) / 2\n",
    "\n",
    "print(f\"Area: {area}\")\n"
   ]
  },
  {
   "cell_type": "code",
   "execution_count": 21,
   "metadata": {},
   "outputs": [
    {
     "name": "stdout",
     "output_type": "stream",
     "text": [
      "Area: 30\n"
     ]
    }
   ],
   "source": [
    "import math\n",
    "\n",
    "l = int(input(\"Length of base: \"))\n",
    "h = int(input(\"Height: \"))\n",
    "\n",
    "print(f\"Area: {l * h}\")\n"
   ]
  }
 ],
 "metadata": {
  "kernelspec": {
   "display_name": "Python 3",
   "language": "python",
   "name": "python3"
  },
  "language_info": {
   "codemirror_mode": {
    "name": "ipython",
    "version": 3
   },
   "file_extension": ".py",
   "mimetype": "text/x-python",
   "name": "python",
   "nbconvert_exporter": "python",
   "pygments_lexer": "ipython3",
   "version": "3.12.6"
  }
 },
 "nbformat": 4,
 "nbformat_minor": 2
}
