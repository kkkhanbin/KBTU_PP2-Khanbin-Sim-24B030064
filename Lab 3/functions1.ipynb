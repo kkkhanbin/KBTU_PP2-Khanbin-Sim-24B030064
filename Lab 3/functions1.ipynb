{
 "cells": [
  {
   "cell_type": "code",
   "execution_count": null,
   "metadata": {},
   "outputs": [],
   "source": [
    "def grams_to_ounces(grams: float) -> float:\n",
    "    return grams * 28.3495231\n",
    "\n",
    "\n",
    "print(grams_to_ounces(1002))"
   ]
  },
  {
   "cell_type": "code",
   "execution_count": null,
   "metadata": {},
   "outputs": [],
   "source": [
    "def fahrenheit_to_celcius(fahrenheit: float) -> float:\n",
    "    return (5 / 9) * (fahrenheit - 32)"
   ]
  },
  {
   "cell_type": "code",
   "execution_count": null,
   "metadata": {},
   "outputs": [],
   "source": [
    "def solve(heads: int, legs: int) -> tuple:\n",
    "    \"\"\"\n",
    "    4x+2y=legs\n",
    "    x+y=heads\n",
    "\n",
    "    2x=legs-2heads\n",
    "    x=legs/2-heads\n",
    "    \"\"\"\n",
    "\n",
    "    rabbits = legs // 2 - heads\n",
    "    chickens = heads - rabbits\n",
    "\n",
    "    return rabbits, chickens\n",
    "\n",
    "print(solve(35, 94))"
   ]
  },
  {
   "cell_type": "code",
   "execution_count": null,
   "metadata": {},
   "outputs": [],
   "source": [
    "from math import sqrt\n",
    "\n",
    "\n",
    "def primes(nums: str) -> list:\n",
    "    return list(filter(lambda x: all([x % i != 0 for i in range(2, round(sqrt(x) + 1))]), map(int, nums.split())))\n",
    "\n",
    "\n",
    "print(primes(\"1 2 7 8 6 9 13 5 7 6 3 4 3 3 3 3 3\"))"
   ]
  },
  {
   "cell_type": "code",
   "execution_count": null,
   "metadata": {},
   "outputs": [],
   "source": [
    "from itertools import permutations\n",
    "\n",
    "\n",
    "def string_permutations(string: str) -> list:\n",
    "    return list(map(lambda permutation: \"\".join(permutation), permutations(string)))\n",
    "\n",
    "\n",
    "print(string_permutations(\"123\"))"
   ]
  },
  {
   "cell_type": "code",
   "execution_count": null,
   "metadata": {},
   "outputs": [],
   "source": [
    "def reversed(text: str) -> str:\n",
    "    return \" \".join(text.split()[::-1])\n",
    "\n",
    "\n",
    "print(reversed(\"We are ready\"))"
   ]
  },
  {
   "cell_type": "code",
   "execution_count": null,
   "metadata": {},
   "outputs": [],
   "source": [
    "def has_33(nums: list) -> bool:\n",
    "    for i in range(len(nums) - 1):\n",
    "        if nums[i] == 3 and nums[i + 1] == 3:\n",
    "            return True\n",
    "    return False"
   ]
  },
  {
   "cell_type": "code",
   "execution_count": null,
   "metadata": {},
   "outputs": [],
   "source": [
    "def spy_game(nums: list) -> bool:\n",
    "    for i in range(len(nums) - 2):\n",
    "        if nums[i] == 0 and nums[i + 1] == 0 and nums[i + 2] == 7:\n",
    "            return True\n",
    "    return False"
   ]
  },
  {
   "cell_type": "code",
   "execution_count": null,
   "metadata": {},
   "outputs": [],
   "source": [
    "from math import pi\n",
    "\n",
    "\n",
    "def sphere_volume(radius: float) -> float:\n",
    "    return 4 / 3 * pi * radius"
   ]
  },
  {
   "cell_type": "code",
   "execution_count": null,
   "metadata": {},
   "outputs": [],
   "source": [
    "def unique(elements: list) -> list:\n",
    "    unique_els = []\n",
    "    for el in elements:\n",
    "        if el not in unique_els:\n",
    "            unique_els.append(el)\n",
    "    return unique"
   ]
  },
  {
   "cell_type": "code",
   "execution_count": null,
   "metadata": {},
   "outputs": [],
   "source": [
    "def is_palindrome(word: str) -> bool:\n",
    "    return word == word[::-1]"
   ]
  },
  {
   "cell_type": "code",
   "execution_count": null,
   "metadata": {},
   "outputs": [],
   "source": [
    "def histogram(nums: list) -> None:\n",
    "    for num in nums:\n",
    "        print(num * \"*\")\n",
    "\n",
    "\n",
    "histogram([5, 2, 19, 16])"
   ]
  },
  {
   "cell_type": "code",
   "execution_count": null,
   "metadata": {},
   "outputs": [],
   "source": [
    "from random import randint\n",
    "\n",
    "num = randint(1, 20)\n",
    "cnt = 1\n",
    "guess = int(input(\"Take a guess: \"))\n",
    "\n",
    "while guess != num:\n",
    "    cnt += 1\n",
    "    print(\"Your guess is too low!\" if guess < num else \"Your guess is too high!\")\n",
    "    guess = int(input(\"Take a guess: \"))\n",
    "\n",
    "print(f\"Correct! You guessed my number in {cnt} guesses\")"
   ]
  },
  {
   "cell_type": "code",
   "execution_count": null,
   "metadata": {},
   "outputs": [],
   "source": []
  }
 ],
 "metadata": {
  "kernelspec": {
   "display_name": "Python 3",
   "language": "python",
   "name": "python3"
  },
  "language_info": {
   "codemirror_mode": {
    "name": "ipython",
    "version": 3
   },
   "file_extension": ".py",
   "mimetype": "text/x-python",
   "name": "python",
   "nbconvert_exporter": "python",
   "pygments_lexer": "ipython3",
   "version": "3.12.6"
  }
 },
 "nbformat": 4,
 "nbformat_minor": 2
}
